{
 "cells": [
  {
   "cell_type": "code",
   "execution_count": 4,
   "id": "7167cb40",
   "metadata": {},
   "outputs": [],
   "source": [
    "from tensorflow.keras.utils import load_img\n",
    "from tensorflow.keras.utils import img_to_array\n",
    "from keras.applications.vgg16 import preprocess_input\n",
    "from keras.applications.vgg16 import decode_predictions\n",
    "from keras.applications.vgg16 import VGG16"
   ]
  },
  {
   "cell_type": "code",
   "execution_count": 5,
   "id": "ada1c0eb",
   "metadata": {},
   "outputs": [],
   "source": [
    "model = VGG16()"
   ]
  },
  {
   "cell_type": "code",
   "execution_count": 6,
   "id": "a8763649",
   "metadata": {},
   "outputs": [],
   "source": [
    "image = load_img(r\"C:\\Users\\user\\Downloads\\animal_pic.jpg\" , target_size = (224,224))"
   ]
  },
  {
   "cell_type": "code",
   "execution_count": 7,
   "id": "820b1110",
   "metadata": {},
   "outputs": [],
   "source": [
    "image = img_to_array(image)"
   ]
  },
  {
   "cell_type": "code",
   "execution_count": 8,
   "id": "e4dce372",
   "metadata": {},
   "outputs": [],
   "source": [
    "image = image.reshape((1,image.shape[0],image.shape[1] , image.shape[2]))"
   ]
  },
  {
   "cell_type": "code",
   "execution_count": 9,
   "id": "346aa894",
   "metadata": {},
   "outputs": [],
   "source": [
    "image = preprocess_input(image)"
   ]
  },
  {
   "cell_type": "code",
   "execution_count": 10,
   "id": "500116fe",
   "metadata": {},
   "outputs": [
    {
     "name": "stdout",
     "output_type": "stream",
     "text": [
      "1/1 [==============================] - 1s 939ms/step\n"
     ]
    }
   ],
   "source": [
    "y_pred = model.predict(image)"
   ]
  },
  {
   "cell_type": "code",
   "execution_count": 11,
   "id": "f13f315b",
   "metadata": {},
   "outputs": [],
   "source": [
    "label = decode_predictions(y_pred)"
   ]
  },
  {
   "cell_type": "code",
   "execution_count": 12,
   "id": "2d0ca11c",
   "metadata": {},
   "outputs": [],
   "source": [
    "label = label[0][0]"
   ]
  },
  {
   "cell_type": "code",
   "execution_count": 14,
   "id": "36a174b6",
   "metadata": {},
   "outputs": [
    {
     "name": "stdout",
     "output_type": "stream",
     "text": [
      "badger(67.16%)\n"
     ]
    }
   ],
   "source": [
    "print(\"%s(%.2f%%)\"%(label[1],label[2]*100))"
   ]
  },
  {
   "cell_type": "code",
   "execution_count": null,
   "id": "3dab778f",
   "metadata": {},
   "outputs": [],
   "source": []
  }
 ],
 "metadata": {
  "kernelspec": {
   "display_name": "Python 3 (ipykernel)",
   "language": "python",
   "name": "python3"
  },
  "language_info": {
   "codemirror_mode": {
    "name": "ipython",
    "version": 3
   },
   "file_extension": ".py",
   "mimetype": "text/x-python",
   "name": "python",
   "nbconvert_exporter": "python",
   "pygments_lexer": "ipython3",
   "version": "3.10.9"
  }
 },
 "nbformat": 4,
 "nbformat_minor": 5
}
